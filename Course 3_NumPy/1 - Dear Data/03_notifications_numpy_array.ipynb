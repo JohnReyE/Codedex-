{
 "cells": [
  {
   "cell_type": "code",
   "execution_count": 1,
   "id": "a7fe7219",
   "metadata": {},
   "outputs": [
    {
     "name": "stdout",
     "output_type": "stream",
     "text": [
      "[156 197 162 292 258 276 288]\n"
     ]
    }
   ],
   "source": [
    "import numpy as np \n",
    "\n",
    "notifications = np.array([156, 197, 162, 292, 258, 276, 288])\n",
    "print(notifications)"
   ]
  },
  {
   "cell_type": "code",
   "execution_count": null,
   "id": "06a5c5c5",
   "metadata": {},
   "outputs": [],
   "source": []
  }
 ],
 "metadata": {
  "kernelspec": {
   "display_name": "Python 3",
   "language": "python",
   "name": "python3"
  },
  "language_info": {
   "codemirror_mode": {
    "name": "ipython",
    "version": 3
   },
   "file_extension": ".py",
   "mimetype": "text/x-python",
   "name": "python",
   "nbconvert_exporter": "python",
   "pygments_lexer": "ipython3",
   "version": "3.13.3"
  }
 },
 "nbformat": 4,
 "nbformat_minor": 5
}
