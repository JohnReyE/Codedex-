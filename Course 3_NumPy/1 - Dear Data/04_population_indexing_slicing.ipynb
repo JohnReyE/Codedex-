{
 "cells": [
  {
   "cell_type": "code",
   "execution_count": 2,
   "id": "d0bc3a44",
   "metadata": {},
   "outputs": [
    {
     "name": "stdout",
     "output_type": "stream",
     "text": [
      "19571216\n",
      "19626488\n",
      "55272\n",
      "[19673200 19854526 20104710]\n"
     ]
    }
   ],
   "source": [
    "import numpy as np \n",
    "\n",
    "population = np.array([19571216, 19673200, 19854526, 20104710, 19463131, 19544098, 19593849, 19636391, 19657321, 19653431, 19626488])\n",
    "\n",
    "print(population[0])\n",
    "print(population[-1])\n",
    "\n",
    "differences = (population[-1] - population[0])\n",
    "print(differences)\n",
    "\n",
    "print(population[1:4])"
   ]
  },
  {
   "cell_type": "code",
   "execution_count": null,
   "id": "81fe21ab",
   "metadata": {},
   "outputs": [],
   "source": []
  }
 ],
 "metadata": {
  "kernelspec": {
   "display_name": "Python 3",
   "language": "python",
   "name": "python3"
  },
  "language_info": {
   "codemirror_mode": {
    "name": "ipython",
    "version": 3
   },
   "file_extension": ".py",
   "mimetype": "text/x-python",
   "name": "python",
   "nbconvert_exporter": "python",
   "pygments_lexer": "ipython3",
   "version": "3.13.3"
  }
 },
 "nbformat": 4,
 "nbformat_minor": 5
}
