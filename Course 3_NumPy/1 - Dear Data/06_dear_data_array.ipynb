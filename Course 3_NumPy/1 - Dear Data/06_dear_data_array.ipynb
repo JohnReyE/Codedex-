{
 "cells": [
  {
   "cell_type": "code",
   "execution_count": 1,
   "id": "c63df2f4",
   "metadata": {},
   "outputs": [
    {
     "name": "stdout",
     "output_type": "stream",
     "text": [
      "Average mood: 6.64/10\n",
      "Average water intake: 6.21 glasses/day\n",
      "Average naps: 6.43 minutes/day\n"
     ]
    }
   ],
   "source": [
    "import numpy as np\n",
    "\n",
    "\n",
    "# Mood out of 10 per day\n",
    "mood = np.array([\n",
    "    [6, 7, 8, 6, 5, 7, 6],\n",
    "    [7, 7, 6, 8, 7, 6, 5],\n",
    "    [6, 6, 6, 7, 8, 7, 7],\n",
    "    [7, 8, 6, 6, 6, 7, 8]\n",
    "])\n",
    "\n",
    "# Water intake (glasses per day)\n",
    "water = np.array([\n",
    "    [5, 6, 7, 5, 6, 8, 7],\n",
    "    [6, 7, 6, 7, 7, 6, 5],\n",
    "    [6, 6, 6, 5, 5, 7, 6],\n",
    "    [7, 6, 5, 6, 7, 8, 6]\n",
    "])\n",
    "\n",
    "# Naps in minutes\n",
    "naps = np.array([\n",
    "    [0, 20, 0, 15, 0, 0, 30],\n",
    "    [10, 0, 0, 0, 20, 15, 0],\n",
    "    [0, 0, 30, 0, 0, 0, 10],\n",
    "    [0, 10, 0, 0, 0, 20, 0]\n",
    "])\n",
    "\n",
    "average_mood = np.average(mood)\n",
    "average_water_intake = np.average(water)\n",
    "average_naps = np.average(naps)\n",
    "\n",
    "print(f\"Average mood: {average_mood:.2f}/10\")\n",
    "print(f\"Average water intake: {average_water_intake:.2f} glasses/day\")  \n",
    "print(f\"Average naps: {average_naps:.2f} minutes/day\")"
   ]
  },
  {
   "cell_type": "code",
   "execution_count": null,
   "id": "98b225fd",
   "metadata": {},
   "outputs": [],
   "source": []
  }
 ],
 "metadata": {
  "kernelspec": {
   "display_name": "Python 3",
   "language": "python",
   "name": "python3"
  },
  "language_info": {
   "codemirror_mode": {
    "name": "ipython",
    "version": 3
   },
   "file_extension": ".py",
   "mimetype": "text/x-python",
   "name": "python",
   "nbconvert_exporter": "python",
   "pygments_lexer": "ipython3",
   "version": "3.13.3"
  }
 },
 "nbformat": 4,
 "nbformat_minor": 5
}
