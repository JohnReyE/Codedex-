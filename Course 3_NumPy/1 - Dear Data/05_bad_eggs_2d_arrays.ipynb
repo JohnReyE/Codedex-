{
 "cells": [
  {
   "cell_type": "code",
   "execution_count": 1,
   "id": "a828c1b8",
   "metadata": {},
   "outputs": [
    {
     "name": "stdout",
     "output_type": "stream",
     "text": [
      "Average of egg carton 1: 0.8683333333333333\n",
      "Average of egg carton 2: 0.7183333333333333\n",
      "Average of egg carton 3: 0.7241666666666666\n"
     ]
    }
   ],
   "source": [
    "import numpy as np\n",
    "\n",
    "egg_carton1 = np.array([\n",
    "  [0.89, 0.90, 0.83, 0.89, 0.97, 0.98], \n",
    "  [0.95, 0.95, 0.89, 0.95, 0.23, 0.99]\n",
    "])\n",
    "\n",
    "egg_carton2 = np.array([\n",
    "  [0.89, 0.95, 0.84, 0.92, 0.94, 0.93], \n",
    "  [0.93, 0.95, 0.02, 0.03, 0.23, 0.99]\n",
    "])\n",
    "\n",
    "egg_carton3 = np.array([\n",
    "  [0.83, 0.95, 0.89, 0.54, 0.37, 0.92], \n",
    "  [0.98, 0.99, 0.19, 0.23, 0.89, 0.91]\n",
    "])\n",
    "\n",
    "average1 = np.average(egg_carton1)\n",
    "average2 = np.average(egg_carton2)\n",
    "average3 = np.average(egg_carton3)\n",
    "\n",
    "print(\"Average of egg carton 1:\", average1)\n",
    "print(\"Average of egg carton 2:\", average2)     \n",
    "print(\"Average of egg carton 3:\", average3)\n"
   ]
  },
  {
   "cell_type": "code",
   "execution_count": null,
   "id": "25141583",
   "metadata": {},
   "outputs": [],
   "source": []
  }
 ],
 "metadata": {
  "kernelspec": {
   "display_name": "Python 3",
   "language": "python",
   "name": "python3"
  },
  "language_info": {
   "codemirror_mode": {
    "name": "ipython",
    "version": 3
   },
   "file_extension": ".py",
   "mimetype": "text/x-python",
   "name": "python",
   "nbconvert_exporter": "python",
   "pygments_lexer": "ipython3",
   "version": "3.13.3"
  }
 },
 "nbformat": 4,
 "nbformat_minor": 5
}
