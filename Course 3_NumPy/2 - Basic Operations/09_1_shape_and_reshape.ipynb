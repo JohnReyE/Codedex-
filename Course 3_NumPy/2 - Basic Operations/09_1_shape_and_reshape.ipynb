{
 "cells": [
  {
   "cell_type": "code",
   "execution_count": 1,
   "id": "913612bf",
   "metadata": {},
   "outputs": [
    {
     "name": "stdout",
     "output_type": "stream",
     "text": [
      "(4, 3)\n"
     ]
    }
   ],
   "source": [
    "import numpy as np\n",
    "\n",
    "arr = np.array([[1, 2, 3], [4, 5, 6], [7, 8, 9], [10, 11, 12]]) \n",
    "\n",
    "print(arr.shape)     # Output: (4, 3)"
   ]
  },
  {
   "cell_type": "code",
   "execution_count": 2,
   "id": "ab140235",
   "metadata": {},
   "outputs": [
    {
     "name": "stdout",
     "output_type": "stream",
     "text": [
      "[[1 2 3 4]\n",
      " [5 6 7 8]]\n"
     ]
    }
   ],
   "source": [
    "arr = np.array([1, 2, 3, 4, 5, 6, 7, 8]) \n",
    "new_arr = arr.reshape(2, 4)\n",
    "\n",
    "print(new_arr)\n",
    "\n",
    "# Output:\n",
    "# [[1 2 3 4]\n",
    "# [5 6 7 8]]"
   ]
  },
  {
   "cell_type": "code",
   "execution_count": null,
   "id": "7761cd20",
   "metadata": {},
   "outputs": [],
   "source": []
  }
 ],
 "metadata": {
  "kernelspec": {
   "display_name": "Python 3",
   "language": "python",
   "name": "python3"
  },
  "language_info": {
   "codemirror_mode": {
    "name": "ipython",
    "version": 3
   },
   "file_extension": ".py",
   "mimetype": "text/x-python",
   "name": "python",
   "nbconvert_exporter": "python",
   "pygments_lexer": "ipython3",
   "version": "3.13.3"
  }
 },
 "nbformat": 4,
 "nbformat_minor": 5
}
