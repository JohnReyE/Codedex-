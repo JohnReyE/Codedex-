{
 "cells": [
  {
   "cell_type": "code",
   "execution_count": 3,
   "id": "cd678a20",
   "metadata": {},
   "outputs": [
    {
     "name": "stdout",
     "output_type": "stream",
     "text": [
      "(28,)\n",
      "[[ 56 100  33   0  45  45  46]\n",
      " [ 34  89 180  60  45  45  44]\n",
      " [ 46  45   0   0  15  90 301]\n",
      " [197  20  60  45  45  42  45]]\n"
     ]
    }
   ],
   "source": [
    "import numpy as np\n",
    "\n",
    "month_results = np.array([56, 100, 33, 0, 45, 45, 46, 34, 89, 180, 60, 45, 45, 44, 46, 45, 0, 0, 15, 90, 301, 197, 20, 60, 45, 45, 42, 45])\n",
    "week_results = month_results.reshape(4, 7)\n",
    "\n",
    "print(month_results.shape)\n",
    "print(week_results)"
   ]
  },
  {
   "cell_type": "code",
   "execution_count": null,
   "id": "5f4509d5",
   "metadata": {},
   "outputs": [],
   "source": []
  }
 ],
 "metadata": {
  "kernelspec": {
   "display_name": "Python 3",
   "language": "python",
   "name": "python3"
  },
  "language_info": {
   "codemirror_mode": {
    "name": "ipython",
    "version": 3
   },
   "file_extension": ".py",
   "mimetype": "text/x-python",
   "name": "python",
   "nbconvert_exporter": "python",
   "pygments_lexer": "ipython3",
   "version": "3.13.3"
  }
 },
 "nbformat": 4,
 "nbformat_minor": 5
}
