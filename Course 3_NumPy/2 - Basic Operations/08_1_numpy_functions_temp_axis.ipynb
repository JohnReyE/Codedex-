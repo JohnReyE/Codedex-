{
 "cells": [
  {
   "cell_type": "code",
   "execution_count": 2,
   "id": "f951f934",
   "metadata": {},
   "outputs": [
    {
     "name": "stdout",
     "output_type": "stream",
     "text": [
      "38\n",
      "59\n",
      "776\n",
      "48.5\n"
     ]
    }
   ],
   "source": [
    "import numpy as np\n",
    "\n",
    "temperatures = np.array([[50, 51, 54, 59, 59, 53, 54, 51],\n",
    "                         [45, 50, 38, 44, 40, 46, 43, 39]])\n",
    "\n",
    "print(np.min(temperatures))       # Output: 38\n",
    "print(np.max(temperatures))       # Output: 59\n",
    "print(np.sum(temperatures))       # Output: 776\n",
    "print(np.average(temperatures))   # Output: 48.5\n",
    "\n"
   ]
  },
  {
   "cell_type": "code",
   "execution_count": 3,
   "id": "981e98d0",
   "metadata": {},
   "outputs": [
    {
     "data": {
      "text/plain": [
       "array([50, 38])"
      ]
     },
     "execution_count": 3,
     "metadata": {},
     "output_type": "execute_result"
    }
   ],
   "source": [
    "temperatures = np.array([[50, 51, 54, 59, 59, 53, 54, 51],\n",
    "                         [45, 50, 38, 44, 40, 46, 43, 39]])\n",
    "\n",
    "np.sum(temperatures, axis=0)   # Sum of each column\n",
    "np.min(temperatures, axis=1)   # Min of each row"
   ]
  },
  {
   "cell_type": "code",
   "execution_count": null,
   "id": "23998fc8",
   "metadata": {},
   "outputs": [],
   "source": []
  }
 ],
 "metadata": {
  "kernelspec": {
   "display_name": "Python 3",
   "language": "python",
   "name": "python3"
  },
  "language_info": {
   "codemirror_mode": {
    "name": "ipython",
    "version": 3
   },
   "file_extension": ".py",
   "mimetype": "text/x-python",
   "name": "python",
   "nbconvert_exporter": "python",
   "pygments_lexer": "ipython3",
   "version": "3.13.3"
  }
 },
 "nbformat": 4,
 "nbformat_minor": 5
}
