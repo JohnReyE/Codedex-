{
 "cells": [
  {
   "cell_type": "code",
   "execution_count": 1,
   "id": "e5ebb0a6",
   "metadata": {},
   "outputs": [
    {
     "name": "stdout",
     "output_type": "stream",
     "text": [
      "[0 1 2 3 4]\n"
     ]
    }
   ],
   "source": [
    "import numpy as np\n",
    "\n",
    "arr = np.arange(5)\n",
    "\n",
    "print(arr)    # Output: [0 1 2 3 4]"
   ]
  },
  {
   "cell_type": "code",
   "execution_count": null,
   "id": "838f63bd",
   "metadata": {},
   "outputs": [
    {
     "name": "stdout",
     "output_type": "stream",
     "text": [
      "[ 1  4  7 10 13 16 19]\n"
     ]
    }
   ],
   "source": [
    "arr = np.arange(start=1, stop=20, step=3)\n",
    "\n",
    "print(arr)   # Output: [1  4  7 10 13 16 19]"
   ]
  },
  {
   "cell_type": "code",
   "execution_count": 5,
   "id": "941282be",
   "metadata": {},
   "outputs": [
    {
     "name": "stdout",
     "output_type": "stream",
     "text": [
      "[1986 2061 2136 2211 2286 2361 2436 2511 2586 2661 2736 2811 2886 2961]\n"
     ]
    }
   ],
   "source": [
    "years = np.arange(start=1986, stop=3000, step=75)\n",
    "\n",
    "print(years)  # Output: [1986 2061 2136 2211 2286 2361 2436 2511 2586 2661 2736 2811 2886 2961]"
   ]
  },
  {
   "cell_type": "code",
   "execution_count": null,
   "id": "abdea924",
   "metadata": {},
   "outputs": [],
   "source": []
  }
 ],
 "metadata": {
  "kernelspec": {
   "display_name": "Python 3",
   "language": "python",
   "name": "python3"
  },
  "language_info": {
   "codemirror_mode": {
    "name": "ipython",
    "version": 3
   },
   "file_extension": ".py",
   "mimetype": "text/x-python",
   "name": "python",
   "nbconvert_exporter": "python",
   "pygments_lexer": "ipython3",
   "version": "3.13.3"
  }
 },
 "nbformat": 4,
 "nbformat_minor": 5
}
