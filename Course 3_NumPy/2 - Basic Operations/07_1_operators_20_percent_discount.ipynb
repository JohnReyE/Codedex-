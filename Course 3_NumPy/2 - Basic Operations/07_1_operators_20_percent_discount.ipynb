{
 "cells": [
  {
   "cell_type": "code",
   "execution_count": 1,
   "id": "e25d34d6",
   "metadata": {},
   "outputs": [
    {
     "name": "stdout",
     "output_type": "stream",
     "text": [
      "[10.392  7.992  3.992 10.392]\n"
     ]
    }
   ],
   "source": [
    "import numpy as np\n",
    "\n",
    "order = np.array([12.99, 9.99, 4.99, 12.99])\n",
    "\n",
    "print(order * 0.8)   # Output: [10.39 7.99 3.99 10.39]"
   ]
  },
  {
   "cell_type": "code",
   "execution_count": null,
   "id": "611242f9",
   "metadata": {},
   "outputs": [],
   "source": []
  }
 ],
 "metadata": {
  "kernelspec": {
   "display_name": "Python 3",
   "language": "python",
   "name": "python3"
  },
  "language_info": {
   "codemirror_mode": {
    "name": "ipython",
    "version": 3
   },
   "file_extension": ".py",
   "mimetype": "text/x-python",
   "name": "python",
   "nbconvert_exporter": "python",
   "pygments_lexer": "ipython3",
   "version": "3.13.3"
  }
 },
 "nbformat": 4,
 "nbformat_minor": 5
}
