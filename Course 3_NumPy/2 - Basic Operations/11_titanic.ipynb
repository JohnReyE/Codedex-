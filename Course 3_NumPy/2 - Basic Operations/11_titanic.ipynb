{
 "cells": [
  {
   "cell_type": "code",
   "execution_count": 7,
   "id": "b11c7651",
   "metadata": {},
   "outputs": [
    {
     "name": "stdout",
     "output_type": "stream",
     "text": [
      "(50, 4)\n",
      "[25.5   0.44  2.44 25.5 ]\n",
      "Average age of the passengers: 25.5\n",
      "[50  1  3 70]\n",
      "Oldest passenger: 70 years old.\n",
      "[1 0 1 0]\n",
      "Youngest passenger: 0 years old.\n",
      "[25.5   0.44  2.44 25.5 ]\n",
      "Percentage of survivors: 44.0%\n"
     ]
    }
   ],
   "source": [
    "import numpy as np\n",
    "\n",
    "passengers = np.array([\n",
    "   [1, 0, 3, 22],\n",
    "   [2, 1, 1, 38],\n",
    "   [3, 1, 3, 26],\n",
    "   [4, 1, 1, 35],\n",
    "   [5, 0, 3, 35],\n",
    "   [6, 0, 3, 18],\n",
    "   [7, 0, 1, 54],\n",
    "   [8, 0, 3, 2],\n",
    "   [9, 1, 3, 27],\n",
    "  [10, 1, 2, 14],\n",
    "  [11, 1, 3, 4],\n",
    "  [12, 1, 1, 58],\n",
    "  [13, 0, 3, 20],\n",
    "  [14, 0, 3, 39],\n",
    "  [15, 0, 3, 14],\n",
    "  [16, 1, 2, 55],\n",
    "  [17, 0, 3, 2],\n",
    "  [18, 1, 2, 12],\n",
    "  [19, 0, 3, 31],\n",
    "  [20, 1, 3, 8],\n",
    "  [21, 0, 2, 35],\n",
    "  [22, 1, 2, 34],\n",
    "  [23, 1, 3, 15],\n",
    "  [24, 1, 1, 28],\n",
    "  [25, 0, 3, 8],\n",
    "  [26, 1, 3, 38],\n",
    "  [27, 0, 3, 2],\n",
    "  [28, 0, 1, 1],\n",
    "  [29, 1, 3, 5],\n",
    "  [30, 0, 3, 18],\n",
    "  [31, 0, 1, 40],\n",
    "  [32, 1, 1, 70],\n",
    "  [33, 1, 3, 33],\n",
    "  [34, 0, 2, 66],\n",
    "  [35, 0, 1, 28],\n",
    "  [36, 0, 1, 42],\n",
    "  [37, 1, 3, 5],\n",
    "  [38, 0, 3, 18],\n",
    "  [39, 0, 3, 18],\n",
    "  [40, 1, 3, 14],\n",
    "  [41, 0, 3, 40],\n",
    "  [42, 0, 2, 27],\n",
    "  [43, 0, 3, 29],\n",
    "  [44, 1, 2, 0],\n",
    "  [45, 1, 3, 19],\n",
    "  [46, 0, 3, 33],\n",
    "  [47, 0, 3, 14],\n",
    "  [48, 1, 3, 22],\n",
    "  [49, 0, 3, 41],\n",
    "  [50, 0, 3, 18]\n",
    "])\n",
    "\n",
    "print(passengers.shape) #shape of the array  \n",
    "\n",
    "print(np.average(passengers, axis=0))\n",
    "print(f\"Average age of the passengers: {np.average(passengers, axis=0)[3]}\")    # Average age of all passengers\n",
    "\n",
    "print(np.max(passengers, axis=0))\n",
    "print(f\"Oldest passenger: {np.max(passengers, axis=0)[3]} years old.\")    # Oldest passengper\n",
    "\n",
    "print(np.min(passengers, axis=0))\n",
    "print(f\"Youngest passenger: {np.min(passengers, axis=0)[3]} years old.\")  # Youngest passenger\n",
    "\n",
    "print(np.mean(passengers, axis=0))\n",
    "print(f\"Percentage of survivors: {np.mean(passengers, axis=0)[1] * 100}%\")  # Percentage \n",
    "\n"
   ]
  },
  {
   "cell_type": "code",
   "execution_count": 3,
   "id": "f61febd7",
   "metadata": {},
   "outputs": [
    {
     "name": "stdout",
     "output_type": "stream",
     "text": [
      "Survival rate in Class 1: 50.00%\n",
      "Survival rate in Class 2: 62.50%\n",
      "Survival rate in Class 3: 37.50%\n"
     ]
    }
   ],
   "source": [
    "# Assuming passengers array is already defined\n",
    "for pclass in [1, 2, 3]:\n",
    "    # Filter rows where the passenger class matches\n",
    "    class_mask = passengers[:, 2] == pclass\n",
    "    class_passengers = passengers[class_mask]\n",
    "    \n",
    "    # Calculate survival rate in this class\n",
    "    survival_rate = np.mean(class_passengers[:, 1]) * 100\n",
    "    print(f\"Survival rate in Class {pclass}: {survival_rate:.2f}%\")\n"
   ]
  },
  {
   "cell_type": "code",
   "execution_count": null,
   "id": "7b844846",
   "metadata": {},
   "outputs": [],
   "source": []
  }
 ],
 "metadata": {
  "kernelspec": {
   "display_name": "Python 3",
   "language": "python",
   "name": "python3"
  },
  "language_info": {
   "codemirror_mode": {
    "name": "ipython",
    "version": 3
   },
   "file_extension": ".py",
   "mimetype": "text/x-python",
   "name": "python",
   "nbconvert_exporter": "python",
   "pygments_lexer": "ipython3",
   "version": "3.13.3"
  }
 },
 "nbformat": 4,
 "nbformat_minor": 5
}
